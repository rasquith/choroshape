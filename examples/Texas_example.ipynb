{
 "cells": [
  {
   "cell_type": "markdown",
   "metadata": {},
   "source": [
    "# Texas Choroshape Examples"
   ]
  },
  {
   "cell_type": "markdown",
   "metadata": {},
   "source": [
    "This script creates county-level choropleth maps for Texas demographic data. It creates some basic classes and walks through some use cases. City and county shapefiles were created with ArcGIS and have not been included. Colors were chosen using Color Brewer 2.0 (http://colorbrewer2.org/).\n",
    "<br/><br/>\n",
    "All data is publicly available. The data file has been downloaded from the Texas State Data Center on 8/10/2016 (http://osd.texas.gov/Data/TPEPP/Projections/). The data comprises 2014 Population Projections with a Full 2000-10 Migration Rate. "
   ]
  },
  {
   "cell_type": "code",
   "execution_count": 2,
   "metadata": {
    "collapsed": false
   },
   "outputs": [],
   "source": [
    "import choroshape as cshp\n",
    "import datetime as dt\n",
    "import numpy as np\n",
    "import pandas as pd\n",
    "import geopandas as gpd\n",
    "import sys, os\n",
    "from six.moves import input\n",
    "from Texas_mapping_objects import Texas_city_label_df\n",
    "%load_ext autoreload\n",
    "%autoreload 2\n",
    "%matplotlib inline\n",
    "\n",
    "pd.set_option(\"display.max_rows\",5)"
   ]
  },
  {
   "cell_type": "markdown",
   "metadata": {},
   "source": [
    "Sets up some variables. A census api key must be specified here, as must the output path for storing the map image files."
   ]
  },
  {
   "cell_type": "code",
   "execution_count": 3,
   "metadata": {
    "collapsed": false
   },
   "outputs": [],
   "source": [
    "TODAY = dt.datetime.today().strftime(\"%m/%d/%Y\")\n",
    "OUTPATH = os.path.expanduser('~/Desktop/Example_Files/')\n",
    "CURR_PATH = (os.path.realpath(''))"
   ]
  },
  {
   "cell_type": "markdown",
   "metadata": {},
   "source": [
    "# Create the dataset\n"
   ]
  },
  {
   "cell_type": "markdown",
   "metadata": {},
   "source": [
    "Let's load and clean some data. First, load the file into a pandas dataframe."
   ]
  },
  {
   "cell_type": "code",
   "execution_count": 6,
   "metadata": {
    "collapsed": false
   },
   "outputs": [
    {
     "data": {
      "text/html": [
       "<div>\n",
       "<table border=\"1\" class=\"dataframe\">\n",
       "  <thead>\n",
       "    <tr style=\"text-align: right;\">\n",
       "      <th></th>\n",
       "      <th>FIPS</th>\n",
       "      <th>area_name</th>\n",
       "      <th>migration_scenario</th>\n",
       "      <th>year</th>\n",
       "      <th>age_group</th>\n",
       "      <th>total</th>\n",
       "      <th>total_male</th>\n",
       "      <th>total_female</th>\n",
       "      <th>total_anglo</th>\n",
       "      <th>anglo_male</th>\n",
       "      <th>anglo_female</th>\n",
       "      <th>total_black</th>\n",
       "      <th>black_male</th>\n",
       "      <th>black_female</th>\n",
       "      <th>total_hispanic</th>\n",
       "      <th>hispanic_male</th>\n",
       "      <th>hispanic_female</th>\n",
       "      <th>total_other</th>\n",
       "      <th>other_male</th>\n",
       "      <th>other_female</th>\n",
       "    </tr>\n",
       "  </thead>\n",
       "  <tbody>\n",
       "    <tr>\n",
       "      <th>0</th>\n",
       "      <td>0</td>\n",
       "      <td>State of Texas</td>\n",
       "      <td>1.0 Scen</td>\n",
       "      <td>2014</td>\n",
       "      <td>ALL</td>\n",
       "      <td>27161942</td>\n",
       "      <td>13499310</td>\n",
       "      <td>13662632</td>\n",
       "      <td>11624881</td>\n",
       "      <td>5753306</td>\n",
       "      <td>5871575</td>\n",
       "      <td>3114187</td>\n",
       "      <td>1506024</td>\n",
       "      <td>1608163</td>\n",
       "      <td>10740456</td>\n",
       "      <td>5417985</td>\n",
       "      <td>5322471</td>\n",
       "      <td>1682418</td>\n",
       "      <td>821995</td>\n",
       "      <td>860423</td>\n",
       "    </tr>\n",
       "    <tr>\n",
       "      <th>1</th>\n",
       "      <td>0</td>\n",
       "      <td>State of Texas</td>\n",
       "      <td>1.0 Scen</td>\n",
       "      <td>2014</td>\n",
       "      <td>&lt;18</td>\n",
       "      <td>7216132</td>\n",
       "      <td>3691030</td>\n",
       "      <td>3525102</td>\n",
       "      <td>2330976</td>\n",
       "      <td>1195370</td>\n",
       "      <td>1135606</td>\n",
       "      <td>824890</td>\n",
       "      <td>420626</td>\n",
       "      <td>404264</td>\n",
       "      <td>3578159</td>\n",
       "      <td>1829787</td>\n",
       "      <td>1748372</td>\n",
       "      <td>482107</td>\n",
       "      <td>245247</td>\n",
       "      <td>236860</td>\n",
       "    </tr>\n",
       "    <tr>\n",
       "      <th>...</th>\n",
       "      <td>...</td>\n",
       "      <td>...</td>\n",
       "      <td>...</td>\n",
       "      <td>...</td>\n",
       "      <td>...</td>\n",
       "      <td>...</td>\n",
       "      <td>...</td>\n",
       "      <td>...</td>\n",
       "      <td>...</td>\n",
       "      <td>...</td>\n",
       "      <td>...</td>\n",
       "      <td>...</td>\n",
       "      <td>...</td>\n",
       "      <td>...</td>\n",
       "      <td>...</td>\n",
       "      <td>...</td>\n",
       "      <td>...</td>\n",
       "      <td>...</td>\n",
       "      <td>...</td>\n",
       "      <td>...</td>\n",
       "    </tr>\n",
       "    <tr>\n",
       "      <th>1528</th>\n",
       "      <td>507</td>\n",
       "      <td>Zavala County</td>\n",
       "      <td>1.0 Scen</td>\n",
       "      <td>2014</td>\n",
       "      <td>45-64</td>\n",
       "      <td>2637</td>\n",
       "      <td>1273</td>\n",
       "      <td>1364</td>\n",
       "      <td>169</td>\n",
       "      <td>88</td>\n",
       "      <td>81</td>\n",
       "      <td>6</td>\n",
       "      <td>4</td>\n",
       "      <td>2</td>\n",
       "      <td>2450</td>\n",
       "      <td>1175</td>\n",
       "      <td>1275</td>\n",
       "      <td>12</td>\n",
       "      <td>6</td>\n",
       "      <td>6</td>\n",
       "    </tr>\n",
       "    <tr>\n",
       "      <th>1529</th>\n",
       "      <td>507</td>\n",
       "      <td>Zavala County</td>\n",
       "      <td>1.0 Scen</td>\n",
       "      <td>2014</td>\n",
       "      <td>65+</td>\n",
       "      <td>1618</td>\n",
       "      <td>700</td>\n",
       "      <td>918</td>\n",
       "      <td>177</td>\n",
       "      <td>90</td>\n",
       "      <td>87</td>\n",
       "      <td>3</td>\n",
       "      <td>2</td>\n",
       "      <td>1</td>\n",
       "      <td>1433</td>\n",
       "      <td>605</td>\n",
       "      <td>828</td>\n",
       "      <td>5</td>\n",
       "      <td>3</td>\n",
       "      <td>2</td>\n",
       "    </tr>\n",
       "  </tbody>\n",
       "</table>\n",
       "<p>1530 rows × 20 columns</p>\n",
       "</div>"
      ],
      "text/plain": [
       "      FIPS       area_name migration_scenario  year age_group     total  \\\n",
       "0        0  State of Texas           1.0 Scen  2014       ALL  27161942   \n",
       "1        0  State of Texas           1.0 Scen  2014       <18   7216132   \n",
       "...    ...             ...                ...   ...       ...       ...   \n",
       "1528   507   Zavala County           1.0 Scen  2014     45-64      2637   \n",
       "1529   507   Zavala County           1.0 Scen  2014       65+      1618   \n",
       "\n",
       "      total_male  total_female  total_anglo  anglo_male  anglo_female  \\\n",
       "0       13499310      13662632     11624881     5753306       5871575   \n",
       "1        3691030       3525102      2330976     1195370       1135606   \n",
       "...          ...           ...          ...         ...           ...   \n",
       "1528        1273          1364          169          88            81   \n",
       "1529         700           918          177          90            87   \n",
       "\n",
       "      total_black  black_male  black_female  total_hispanic  hispanic_male  \\\n",
       "0         3114187     1506024       1608163        10740456        5417985   \n",
       "1          824890      420626        404264         3578159        1829787   \n",
       "...           ...         ...           ...             ...            ...   \n",
       "1528            6           4             2            2450           1175   \n",
       "1529            3           2             1            1433            605   \n",
       "\n",
       "      hispanic_female  total_other  other_male  other_female  \n",
       "0             5322471      1682418      821995        860423  \n",
       "1             1748372       482107      245247        236860  \n",
       "...               ...          ...         ...           ...  \n",
       "1528             1275           12           6             6  \n",
       "1529              828            5           3             2  \n",
       "\n",
       "[1530 rows x 20 columns]"
      ]
     },
     "execution_count": 6,
     "metadata": {},
     "output_type": "execute_result"
    }
   ],
   "source": [
    "TSDC_FILE = os.path.normpath(os.path.join(CURR_PATH,\n",
    "    'Data_Files/TSDC_PopulationProj_County_AgeGroup Yr2014 - 1.0ms.xlsx'))\n",
    "pop_data = pd.read_excel(TSDC_FILE)\n",
    "pop_data"
   ]
  },
  {
   "cell_type": "markdown",
   "metadata": {},
   "source": [
    "Get the total population for each couty in Texas."
   ]
  },
  {
   "cell_type": "code",
   "execution_count": null,
   "metadata": {
    "collapsed": false
   },
   "outputs": [],
   "source": [
    "total_data = pop_data[pop_data['age_group'] == 'ALL']\n",
    "total_data"
   ]
  },
  {
   "cell_type": "markdown",
   "metadata": {},
   "source": [
    "For our example program, which only serves adults, reproductive women are defined as females ages 18 to 24. We'll want to create a column, \"total_women_18_ti_64\", with the population of reproductive women for each county. We'll do something similar for adults (18 and over) and children (under 18)"
   ]
  },
  {
   "cell_type": "code",
   "execution_count": null,
   "metadata": {
    "collapsed": false
   },
   "outputs": [],
   "source": [
    "rep_women = pop_data[pop_data['age_group'].isin(\n",
    "        ['18-24', '25-44', '45-64'])].groupby('FIPS').aggregate(np.sum).reset_index(level=0)\n",
    "rep_women = rep_women[['FIPS', 'total_female']]  # select\n",
    "rep_women.columns = ['FIPS', '18-64_years_of_age_and_female']  # rename\n",
    "rep_women"
   ]
  },
  {
   "cell_type": "markdown",
   "metadata": {},
   "source": [
    "We'll do something similar to find the population of adults (over 18) for each county."
   ]
  },
  {
   "cell_type": "code",
   "execution_count": null,
   "metadata": {
    "collapsed": false
   },
   "outputs": [],
   "source": [
    "adults = pop_data[pop_data['age_group'].isin(\n",
    "        ['18-24', '25-44', '45-64', '65+'])].groupby('FIPS').aggregate(\n",
    "        np.sum).reset_index(level=0)\n",
    "adults = adults[['FIPS', 'total']]  # select\n",
    "adults.columns = ['FIPS', '18_years_of_age_and_older']  # rename\n",
    "adults"
   ]
  },
  {
   "cell_type": "markdown",
   "metadata": {},
   "source": [
    "And children (under 18)"
   ]
  },
  {
   "cell_type": "code",
   "execution_count": null,
   "metadata": {
    "collapsed": false
   },
   "outputs": [],
   "source": [
    "children = pop_data[pop_data['age_group'] == '<18']\n",
    "children = children[['FIPS', 'total']]  # select\n",
    "children.columns = ['FIPS', 'younger_than_18_years_of_age']  # rename\n",
    "children"
   ]
  },
  {
   "cell_type": "markdown",
   "metadata": {},
   "source": [
    "Now we'll add these columns to the totals dataset to create one county dataset with all our variables of interest."
   ]
  },
  {
   "cell_type": "code",
   "execution_count": null,
   "metadata": {
    "collapsed": false
   },
   "outputs": [],
   "source": [
    "for df in [rep_women, adults, children]:\n",
    "    total_data = pd.merge(total_data, df, how='left', on='FIPS')\n",
    "total_data"
   ]
  },
  {
   "cell_type": "markdown",
   "metadata": {},
   "source": [
    "We'll want to separate county info from state info."
   ]
  },
  {
   "cell_type": "code",
   "execution_count": null,
   "metadata": {
    "collapsed": false
   },
   "outputs": [],
   "source": [
    "state_only_data = total_data[total_data['FIPS'] == 0]\n",
    "total_data = total_data[total_data['FIPS'] != 0]\n",
    "total_data"
   ]
  },
  {
   "cell_type": "markdown",
   "metadata": {},
   "source": [
    "# Create the maps"
   ]
  },
  {
   "cell_type": "markdown",
   "metadata": {},
   "source": [
    "Let's creat a list of the columns that we want to map:"
   ]
  },
  {
   "cell_type": "code",
   "execution_count": null,
   "metadata": {
    "collapsed": false
   },
   "outputs": [],
   "source": [
    "cat_cols = ['total_anglo', 'total_black', 'total_hispanic', 'total_other',\n",
    "            '18-64_years_of_age_and_female', '18_years_of_age_and_older',\n",
    "           'younger_than_18_years_of_age']"
   ]
  },
  {
   "cell_type": "markdown",
   "metadata": {},
   "source": [
    "We want the map template to be the same for every variable, but we want the color scheme to differe between the maps. Let's create a dict with color schemes for each map topic."
   ]
  },
  {
   "cell_type": "code",
   "execution_count": null,
   "metadata": {
    "collapsed": false
   },
   "outputs": [],
   "source": [
    "color_list = ['greens', 'purples', 'oranges', 'yellows', 'blues', 'blues', 'blues']\n",
    "color_dict = dict(zip(cat_cols, color_list))\n",
    "color_dict"
   ]
  },
  {
   "cell_type": "markdown",
   "metadata": {},
   "source": [
    "In this example, we'lls specify 2 shapefiles, one for county shape information and one for major cities/ cities of interest in Texas. Specify the shapefile paths here:"
   ]
  },
  {
   "cell_type": "code",
   "execution_count": null,
   "metadata": {
    "collapsed": false
   },
   "outputs": [],
   "source": [
    "COUNTY_SHP = input(\"Enter the path for your county shapefile template; this should end in 'shp\")\n",
    "CITY_SHP = input(\"Enter the path for your city shapefile template; this should end in 'shp\")"
   ]
  },
  {
   "cell_type": "code",
   "execution_count": null,
   "metadata": {
    "collapsed": false
   },
   "outputs": [],
   "source": [
    "today = dt.datetime.today().strftime(\"%m/%d/%Y\")\n",
    "footnote = 'Source: Texas State Data Center, 2014 Population Projections,\\n' +\\\n",
    "         '            Full 2000-10 Migration Rate, Prepared on %s' % (today)\n",
    "print(footnote)\n",
    "\n",
    "\n",
    "# Column names from the city GeoDataFrame\n",
    "city_geoms = 'geometry'\n",
    "city_names = 'NAME'\n",
    "\n",
    "city_info = cshp.CityInfo(CITY_SHP, 'geometry', 'NAME',\n",
    "                     Texas_city_label_df)"
   ]
  },
  {
   "cell_type": "markdown",
   "metadata": {},
   "source": [
    "The following code <br/>\n",
    "<i>\n",
    "1) Creates a name for the parameter being mapped and the Title  <br/>\n",
    "2) Creates custom category bins with get_custom_bins--None will default to quantiles  <br/>\n",
    "3) Creates a choropleth data object  <br/>\n",
    "4) Creates a choropleth map object  <br/>\n",
    "5) Saves the map to a .png file  </i><br/>"
   ]
  },
  {
   "cell_type": "code",
   "execution_count": null,
   "metadata": {
    "collapsed": false
   },
   "outputs": [],
   "source": [
    "total_col = 'total'\n",
    "fips_col = 'FIPS'\n",
    "geofips_col = 'FIPS'\n",
    "for c in cat_cols:\n",
    "    cat_name = c.replace('total_', '').title().replace('_', ' ')\n",
    "    title = 'Percent of Population who are %s by County, 2014' % cat_name\n",
    "    colors = color_dict[c]\n",
    "\n",
    "    # For some categories, we want to create custom bins around the state-level proportion\n",
    "    if c in cat_cols[4:]:\n",
    "        state_level = state_only_data[c]/state_only_data[total_col]\n",
    "        bins = cshp.get_custom_bins(state_level)\n",
    "        # Optional label for the legend\n",
    "        level_labels = {1: '(State Overall Prop.)'}\n",
    "    else:\n",
    "        bins = None\n",
    "        level_labels = None\n",
    "    \n",
    "    total_data = cshp.fix_FIPS(total_data, fips_col, '48')\n",
    "    geodata = cshp.fix_FIPS(gpd.GeoDataFrame.from_file(COUNTY_SHP), geofips_col, '48')\n",
    "    \n",
    "    # Data object\n",
    "    dataset = cshp.AreaPopDataset(total_data, geodata, fips_col, geofips_col, c,\n",
    "                 total_col, footnote, cat_name, title,\n",
    "                 None, 4, 3, level_labels, True)\n",
    "    \n",
    "\n",
    "    choropleth = cshp.Choropleth(dataset, colors, city_info, OUTPATH, False, True)\n",
    "\n",
    "#     # And...make the map\n",
    "    choropleth.plot()\n"
   ]
  }
 ],
 "metadata": {
  "anaconda-cloud": {},
  "kernelspec": {
   "display_name": "Python 2",
   "language": "python",
   "name": "python2"
  },
  "language_info": {
   "codemirror_mode": {
    "name": "ipython",
    "version": 2
   },
   "file_extension": ".py",
   "mimetype": "text/x-python",
   "name": "python",
   "nbconvert_exporter": "python",
   "pygments_lexer": "ipython2",
   "version": "2.7.11"
  }
 },
 "nbformat": 4,
 "nbformat_minor": 0
}
