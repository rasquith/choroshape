{
 "cells": [
  {
   "cell_type": "markdown",
   "metadata": {},
   "source": [
    "# Choroshape Census Data Examples"
   ]
  },
  {
   "cell_type": "markdown",
   "metadata": {},
   "source": [
    "This script makes county-level choropleth maps that represent the amount of women of reproductive age (defined here as females 15 to 49) by proportion of county population for several U.S. states. This script demostrates one way to use Choroshape to make chorepleth maps. The script uses data from census pep API and Tiger shapefiles also from the U.S. Census site."
   ]
  },
  {
   "cell_type": "code",
   "execution_count": 35,
   "metadata": {
    "collapsed": true
   },
   "outputs": [],
   "source": [
    "import choroshape\n",
    "import datetime as dt\n",
    "import pandas as pd\n",
    "import numpy as np\n",
    "import geopandas as gpd\n",
    "import os\n",
    "import us\n",
    "import json\n",
    "import io\n",
    "import zipfile\n",
    "from six.moves.urllib.request import urlopen"
   ]
  },
  {
   "cell_type": "markdown",
   "metadata": {},
   "source": [
    "Sets up some variables. A census api key must be specified here, as must the output path for storing the map image files."
   ]
  },
  {
   "cell_type": "code",
   "execution_count": 30,
   "metadata": {
    "collapsed": true
   },
   "outputs": [],
   "source": [
    "TODAY = dt.datetime.today().strftime(\"%m/%d/%Y\")\n",
    "OUTPATH = os.path.expanduser('~/Desktop/Example_Files/')\n",
    "# MYTOKEN =  # Get your census api key at http://api.census.gov/data/key_signup.html\n",
    "MYTOKEN = \"acbb5df8ee5207bbdae91c2d8b878b4123011a90\""
   ]
  },
  {
   "cell_type": "markdown",
   "metadata": {},
   "source": [
    "This function reads in the data from the census api and returns a pandas dataframe."
   ]
  },
  {
   "cell_type": "code",
   "execution_count": 31,
   "metadata": {
    "collapsed": true
   },
   "outputs": [],
   "source": [
    "def census_call(url):\n",
    "    '''Calls a table from the census API and creates a pandas DataFrame\n",
    "    Args:\n",
    "        url(str): complete url to use for the call, alread has the table_code.\n",
    "            Examples can be found ont the Census API guide.\n",
    "    Returns:\n",
    "        df(pd.DataFrame): data in DataFrame format'''\n",
    "    response = urlopen(url)\n",
    "    str_response = response.read().decode('utf-8')\n",
    "    data = json.loads(str_response)\n",
    "    df = pd.DataFrame(data[1:], columns=data[0])\n",
    "    return df"
   ]
  },
  {
   "cell_type": "markdown",
   "metadata": {},
   "source": [
    "Here a dictionary is created to store slightly different style specifications for each state. Custom style can be specified through the Choroshape.ChoroplethStyle object."
   ]
  },
  {
   "cell_type": "code",
   "execution_count": 32,
   "metadata": {
    "collapsed": false
   },
   "outputs": [],
   "source": [
    "style_dict = {}\n",
    "style_dict['MA'] = choroshape.ChoroplethStyle(county_colors='blues', legx=.07,\n",
    "                                              legy=0.18, ttlx=.08, ttly=0.9)\n",
    "style_dict['MI'] = choroshape.ChoroplethStyle(county_colors='greens', legx=.07,\n",
    "                                              legy=0.18, ttlx=.08, ttly=0.9)\n",
    "style_dict['TX'] = choroshape.ChoroplethStyle(county_colors='violets', legx=.07,\n",
    "                                              legy=0.18, ttlx=.08, ttly=0.9)\n",
    "style_dict['NC'] = choroshape.ChoroplethStyle(county_colors='reds', legx=.07,\n",
    "                                              legy=0.18, ttlx=.08, ttly=0.9)\n",
    "style_dict['CO'] = choroshape.ChoroplethStyle(county_colors='oranges',legx=.07,\n",
    "                                              legy=.12, ttlx=.08, ttly=0.84)"
   ]
  },
  {
   "cell_type": "markdown",
   "metadata": {},
   "source": [
    "Here the script is looping over the states in the style_dict and\n",
    "1. Finding the specified data table\n",
    "2. Filter and clean the data\n",
    "3. Find the total population for each county\n",
    "4. Find the total number of women age 15 to 49 for each county\n",
    "5. Downloads the shapefile\n",
    "6. Creates and cleans a geodataset\n",
    "7. Creates an area population data object\n",
    "8. Creates a style object\n",
    "9. Creates a choropleth object\n",
    "10. Plots the map"
   ]
  },
  {
   "cell_type": "code",
   "execution_count": null,
   "metadata": {
    "collapsed": false
   },
   "outputs": [],
   "source": [
    "states = [key for key in style_dict]\n",
    "for state in states:\n",
    "    \n",
    "    # Get the state info using the us library\n",
    "    state_fips = us.states.lookup(state).fips\n",
    "    state_name = us.states.lookup(state).name\n",
    "\n",
    "    # Get the data table from the census api and crate a datagrame\n",
    "    url = 'https://api.census.gov/data/2014/pep/cochar5?get=AGEGRP,RACE5,' +\\\n",
    "        'HISP,SEX,DATE,STNAME,POP&for=county:*&in=state' +\\\n",
    "        ':%s&key=%s' % (state_fips, MYTOKEN)\n",
    "    df = census_call(url)\n",
    "\n",
    "    # Filter and clean the data\n",
    "    df = fix_FIPS(df, 'county', 'state')\n",
    "    df['POP'] = df['POP'].str.strip().astype(int)\n",
    "    df = df[df['DATE'] == '6']  # filter to 2014\n",
    "\n",
    "    # Get the total for each county; here the age group zero is all ages\n",
    "    total = df[(df['AGEGRP'] == '0')]   # All ages\n",
    "    total = total.groupby(['FIPS'], as_index=False).aggregate(np.sum)\n",
    "\n",
    "    # Get the total for each county for women in the specified age group\n",
    "    df = df[df['SEX'] == '2']  # Women\n",
    "    df = df[(df['AGEGRP'] == '4') | (df['AGEGRP'] == '5') | (\n",
    "        df['AGEGRP'] == '6') | (df['AGEGRP'] == '7') | (\n",
    "        df['AGEGRP'] == '8') | (df['AGEGRP'] == '9') | (\n",
    "        df['AGEGRP'] == '10')]  # 15 to 49\n",
    "    df = df.groupby(['FIPS'], as_index=False).aggregate(np.sum)\n",
    "    \n",
    "    # Calculate a ratio here; Choroshape can also automatically calculate a ratio\n",
    "    df.rename(columns={'POP': 'female_15_to_49'}, inplace=True)\n",
    "    df = pd.merge(left=df, right=total, how='left', on='FIPS')\n",
    "    df['ratio'] = df['female_15_to_49'].astype(float)/df['POP']\n",
    "    \n",
    "    # Download the shapefile info for the state\n",
    "    remotezip = urllib.urlopen('http://www2.census.gov/geo/tiger/' +\\\n",
    "                               'GENZ2014/shp/cb_2014_us_county_500k.zip')\n",
    "    zipinmemory = io.BytesIO(remotezip.read())\n",
    "    z = zipfile.ZipFile(zipinmemory)\n",
    "    fn_path = os.path.normpath('%sshapefiles/' % OUTPATH)\n",
    "    z.extractall(fn_path)\n",
    "    bordersfn = os.path.join(fn_path, 'cb_2014_us_county_500k.shp')\n",
    "\n",
    "    # Creates a geodataframe\n",
    "    geodf = gpd.GeoDataFrame.from_file(bordersfn)\n",
    "    geodf = (geodf[geodf['STATEFP'] == state_fips])\n",
    "    geodf = fix_FIPS(geodf, 'COUNTYFP', 'STATEFP')\n",
    "\n",
    "    # Footnote for the map\n",
    "    footnote = 'Data Source: U.S. Census Bureau. (December 2015).\\n    ' +\\\n",
    "               'Population Estimates and Projections.\\n    ' +\\\n",
    "               'Retrieved on %s, from API call:\\n    ' % TODAY +\\\n",
    "               'https://api.census.gov/data/2014/pep/cochar5?get = AGEGRP, ' +\\\n",
    "               'RACE5, HISP, SEX, DATE, STNAME, POP & for = county:*' +\\\n",
    "               ' & in = state: % s & key = MYKEY' % state\n",
    "    \n",
    "    # Creates a dataset object using the Choroshape defaults\n",
    "    apd = choroshape.AreaPopDataset(df, geodf, 'FIPS', 'FIPS',\n",
    "                         cat_col='ratio',\n",
    "                         footnote=footnote,\n",
    "                         cat_name=state + '_Female_15_to_49',\n",
    "                         title=state_name + ' 2014 County Populations by Proportion of Women Ages 15 to 49',\n",
    "                         percent_format=True)\n",
    "    \n",
    "    # Creates a chstyle object\n",
    "    chstyle = style_dict[state]\n",
    "    \n",
    "    # Creates the map\n",
    "    chmap = choroshape.Choropleth(apd, chstyle, None, OUTPATH)\n",
    "    \n",
    "#     Plots the map\n",
    "    chmap.plot()"
   ]
  }
 ],
 "metadata": {
  "anaconda-cloud": {},
  "kernelspec": {
   "display_name": "Python [Root]",
   "language": "python",
   "name": "Python [Root]"
  },
  "language_info": {
   "codemirror_mode": {
    "name": "ipython",
    "version": 3
   },
   "file_extension": ".py",
   "mimetype": "text/x-python",
   "name": "python",
   "nbconvert_exporter": "python",
   "pygments_lexer": "ipython3",
   "version": "3.5.2"
  }
 },
 "nbformat": 4,
 "nbformat_minor": 0
}
